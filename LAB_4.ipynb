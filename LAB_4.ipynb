{
 "cells": [
  {
   "cell_type": "code",
   "execution_count": 1,
   "id": "fc560d46",
   "metadata": {},
   "outputs": [],
   "source": [
    "import torch\n",
    "import torch.nn as nn\n",
    "import torch.optim as optim\n",
    "from torchvision import datasets, transforms\n",
    "from torch.utils.data import DataLoader"
   ]
  },
  {
   "cell_type": "code",
   "execution_count": 2,
   "id": "3216900e",
   "metadata": {},
   "outputs": [],
   "source": [
    "# Define transformations: convert to tensor and normalize\n",
    "transform = transforms.Compose([\n",
    "    transforms.ToTensor(),\n",
    "    transforms.Normalize((0.1307,), (0.3081,))  # mean and std for MNIST\n",
    "])"
   ]
  },
  {
   "cell_type": "code",
   "execution_count": 3,
   "id": "95ead72d",
   "metadata": {},
   "outputs": [
    {
     "name": "stdout",
     "output_type": "stream",
     "text": [
      "Downloading http://yann.lecun.com/exdb/mnist/train-images-idx3-ubyte.gz\n",
      "Failed to download (trying next):\n",
      "HTTP Error 404: Not Found\n",
      "\n",
      "Downloading https://ossci-datasets.s3.amazonaws.com/mnist/train-images-idx3-ubyte.gz\n",
      "Downloading https://ossci-datasets.s3.amazonaws.com/mnist/train-images-idx3-ubyte.gz to ./data\\MNIST\\raw\\train-images-idx3-ubyte.gz\n"
     ]
    },
    {
     "name": "stderr",
     "output_type": "stream",
     "text": [
      "100%|██████████| 9.91M/9.91M [00:04<00:00, 2.39MB/s]\n"
     ]
    },
    {
     "name": "stdout",
     "output_type": "stream",
     "text": [
      "Extracting ./data\\MNIST\\raw\\train-images-idx3-ubyte.gz to ./data\\MNIST\\raw\n",
      "\n",
      "Downloading http://yann.lecun.com/exdb/mnist/train-labels-idx1-ubyte.gz\n",
      "Failed to download (trying next):\n",
      "HTTP Error 404: Not Found\n",
      "\n",
      "Downloading https://ossci-datasets.s3.amazonaws.com/mnist/train-labels-idx1-ubyte.gz\n",
      "Downloading https://ossci-datasets.s3.amazonaws.com/mnist/train-labels-idx1-ubyte.gz to ./data\\MNIST\\raw\\train-labels-idx1-ubyte.gz\n"
     ]
    },
    {
     "name": "stderr",
     "output_type": "stream",
     "text": [
      "100%|██████████| 28.9k/28.9k [00:00<00:00, 90.5kB/s]\n"
     ]
    },
    {
     "name": "stdout",
     "output_type": "stream",
     "text": [
      "Extracting ./data\\MNIST\\raw\\train-labels-idx1-ubyte.gz to ./data\\MNIST\\raw\n",
      "\n",
      "Downloading http://yann.lecun.com/exdb/mnist/t10k-images-idx3-ubyte.gz\n",
      "Failed to download (trying next):\n",
      "HTTP Error 404: Not Found\n",
      "\n",
      "Downloading https://ossci-datasets.s3.amazonaws.com/mnist/t10k-images-idx3-ubyte.gz\n",
      "Downloading https://ossci-datasets.s3.amazonaws.com/mnist/t10k-images-idx3-ubyte.gz to ./data\\MNIST\\raw\\t10k-images-idx3-ubyte.gz\n"
     ]
    },
    {
     "name": "stderr",
     "output_type": "stream",
     "text": [
      "100%|██████████| 1.65M/1.65M [00:01<00:00, 846kB/s] \n"
     ]
    },
    {
     "name": "stdout",
     "output_type": "stream",
     "text": [
      "Extracting ./data\\MNIST\\raw\\t10k-images-idx3-ubyte.gz to ./data\\MNIST\\raw\n",
      "\n",
      "Downloading http://yann.lecun.com/exdb/mnist/t10k-labels-idx1-ubyte.gz\n",
      "Failed to download (trying next):\n",
      "HTTP Error 404: Not Found\n",
      "\n",
      "Downloading https://ossci-datasets.s3.amazonaws.com/mnist/t10k-labels-idx1-ubyte.gz\n",
      "Downloading https://ossci-datasets.s3.amazonaws.com/mnist/t10k-labels-idx1-ubyte.gz to ./data\\MNIST\\raw\\t10k-labels-idx1-ubyte.gz\n"
     ]
    },
    {
     "name": "stderr",
     "output_type": "stream",
     "text": [
      "100%|██████████| 4.54k/4.54k [00:00<?, ?B/s]"
     ]
    },
    {
     "name": "stdout",
     "output_type": "stream",
     "text": [
      "Extracting ./data\\MNIST\\raw\\t10k-labels-idx1-ubyte.gz to ./data\\MNIST\\raw\n",
      "\n"
     ]
    },
    {
     "name": "stderr",
     "output_type": "stream",
     "text": [
      "\n"
     ]
    }
   ],
   "source": [
    "# Load MNIST dataset\n",
    "train_dataset = datasets.MNIST(root='./data', train=True, download=True, transform=transform)\n",
    "test_dataset = datasets.MNIST(root='./data', train=False, download=True, transform=transform)\n",
    "\n",
    "train_loader = DataLoader(train_dataset, batch_size=64, shuffle=True)\n",
    "test_loader = DataLoader(test_dataset, batch_size=1000, shuffle=False)"
   ]
  },
  {
   "cell_type": "code",
   "execution_count": 4,
   "id": "6f9bf2f4",
   "metadata": {},
   "outputs": [],
   "source": [
    "# Define a simple feedforward neural network\n",
    "class SimpleFFNN(nn.Module):\n",
    "    def __init__(self):\n",
    "        super(SimpleFFNN, self).__init__()\n",
    "        self.flatten = nn.Flatten()\n",
    "        self.fc1 = nn.Linear(28*28, 128)  # hidden layer\n",
    "        self.relu = nn.ReLU()\n",
    "        self.fc2 = nn.Linear(128, 10)     # output layer\n",
    "\n",
    "    def forward(self, x):\n",
    "        x = self.flatten(x)\n",
    "        x = self.relu(self.fc1(x))\n",
    "        x = self.fc2(x)\n",
    "        return x"
   ]
  },
  {
   "cell_type": "code",
   "execution_count": 5,
   "id": "1ad586ae",
   "metadata": {},
   "outputs": [],
   "source": [
    "# Instantiate the network, define loss and optimizer\n",
    "model = SimpleFFNN()\n",
    "criterion = nn.CrossEntropyLoss()\n",
    "optimizer = optim.Adam(model.parameters(), lr=0.001)"
   ]
  },
  {
   "cell_type": "code",
   "execution_count": 6,
   "id": "1fdeefbc",
   "metadata": {},
   "outputs": [],
   "source": [
    "# Training loop\n",
    "def train(model, device, train_loader, optimizer, criterion, epoch):\n",
    "    model.train()\n",
    "    for batch_idx, (data, target) in enumerate(train_loader):\n",
    "        data, target = data.to(device), target.to(device)\n",
    "\n",
    "        optimizer.zero_grad()\n",
    "        output = model(data)\n",
    "        loss = criterion(output, target)\n",
    "        loss.backward()\n",
    "        optimizer.step()\n",
    "\n",
    "        if batch_idx % 100 == 0:\n",
    "            print(f'Train Epoch: {epoch} [{batch_idx * len(data)}/{len(train_loader.dataset)}]  Loss: {loss.item():.6f}')"
   ]
  },
  {
   "cell_type": "code",
   "execution_count": 7,
   "id": "a5edba81",
   "metadata": {},
   "outputs": [],
   "source": [
    "# Testing loop\n",
    "def test(model, device, test_loader, criterion):\n",
    "    model.eval()\n",
    "    test_loss = 0\n",
    "    correct = 0\n",
    "\n",
    "    with torch.no_grad():\n",
    "        for data, target in test_loader:\n",
    "            data, target = data.to(device), target.to(device)\n",
    "            output = model(data)\n",
    "            test_loss += criterion(output, target).item() * data.size(0)\n",
    "            pred = output.argmax(dim=1)\n",
    "            correct += pred.eq(target).sum().item()\n",
    "\n",
    "    test_loss /= len(test_loader.dataset)\n",
    "    accuracy = correct / len(test_loader.dataset)\n",
    "    print(f'Test set: Average loss: {test_loss:.4f}, Accuracy: {correct}/{len(test_loader.dataset)} ({accuracy*100:.2f}%)')"
   ]
  },
  {
   "cell_type": "code",
   "execution_count": 8,
   "id": "1a678365",
   "metadata": {},
   "outputs": [
    {
     "data": {
      "text/plain": [
       "SimpleFFNN(\n",
       "  (flatten): Flatten(start_dim=1, end_dim=-1)\n",
       "  (fc1): Linear(in_features=784, out_features=128, bias=True)\n",
       "  (relu): ReLU()\n",
       "  (fc2): Linear(in_features=128, out_features=10, bias=True)\n",
       ")"
      ]
     },
     "execution_count": 8,
     "metadata": {},
     "output_type": "execute_result"
    }
   ],
   "source": [
    "# Use GPU if available\n",
    "device = torch.device(\"cuda\" if torch.cuda.is_available() else \"cpu\")\n",
    "model.to(device)"
   ]
  },
  {
   "cell_type": "code",
   "execution_count": 9,
   "id": "30999b46",
   "metadata": {},
   "outputs": [
    {
     "name": "stdout",
     "output_type": "stream",
     "text": [
      "Train Epoch: 1 [0/60000]  Loss: 2.379567\n",
      "Train Epoch: 1 [6400/60000]  Loss: 0.294139\n",
      "Train Epoch: 1 [12800/60000]  Loss: 0.277374\n",
      "Train Epoch: 1 [19200/60000]  Loss: 0.244020\n",
      "Train Epoch: 1 [25600/60000]  Loss: 0.276662\n",
      "Train Epoch: 1 [32000/60000]  Loss: 0.192224\n",
      "Train Epoch: 1 [38400/60000]  Loss: 0.216590\n",
      "Train Epoch: 1 [44800/60000]  Loss: 0.248662\n",
      "Train Epoch: 1 [51200/60000]  Loss: 0.270294\n",
      "Train Epoch: 1 [57600/60000]  Loss: 0.137064\n",
      "Test set: Average loss: 0.1358, Accuracy: 9582/10000 (95.82%)\n",
      "Train Epoch: 2 [0/60000]  Loss: 0.201892\n",
      "Train Epoch: 2 [6400/60000]  Loss: 0.069879\n",
      "Train Epoch: 2 [12800/60000]  Loss: 0.074729\n",
      "Train Epoch: 2 [19200/60000]  Loss: 0.051494\n",
      "Train Epoch: 2 [25600/60000]  Loss: 0.053794\n",
      "Train Epoch: 2 [32000/60000]  Loss: 0.219389\n",
      "Train Epoch: 2 [38400/60000]  Loss: 0.081733\n",
      "Train Epoch: 2 [44800/60000]  Loss: 0.069754\n",
      "Train Epoch: 2 [51200/60000]  Loss: 0.117569\n",
      "Train Epoch: 2 [57600/60000]  Loss: 0.110541\n",
      "Test set: Average loss: 0.0946, Accuracy: 9711/10000 (97.11%)\n",
      "Train Epoch: 3 [0/60000]  Loss: 0.090725\n",
      "Train Epoch: 3 [6400/60000]  Loss: 0.233194\n",
      "Train Epoch: 3 [12800/60000]  Loss: 0.048340\n",
      "Train Epoch: 3 [19200/60000]  Loss: 0.075781\n",
      "Train Epoch: 3 [25600/60000]  Loss: 0.026294\n",
      "Train Epoch: 3 [32000/60000]  Loss: 0.087506\n",
      "Train Epoch: 3 [38400/60000]  Loss: 0.147155\n",
      "Train Epoch: 3 [44800/60000]  Loss: 0.018720\n",
      "Train Epoch: 3 [51200/60000]  Loss: 0.137005\n",
      "Train Epoch: 3 [57600/60000]  Loss: 0.093191\n",
      "Test set: Average loss: 0.0895, Accuracy: 9716/10000 (97.16%)\n",
      "Train Epoch: 4 [0/60000]  Loss: 0.030428\n",
      "Train Epoch: 4 [6400/60000]  Loss: 0.020574\n",
      "Train Epoch: 4 [12800/60000]  Loss: 0.017417\n",
      "Train Epoch: 4 [19200/60000]  Loss: 0.131408\n",
      "Train Epoch: 4 [25600/60000]  Loss: 0.033840\n",
      "Train Epoch: 4 [32000/60000]  Loss: 0.014443\n",
      "Train Epoch: 4 [38400/60000]  Loss: 0.035624\n",
      "Train Epoch: 4 [44800/60000]  Loss: 0.031576\n",
      "Train Epoch: 4 [51200/60000]  Loss: 0.021316\n",
      "Train Epoch: 4 [57600/60000]  Loss: 0.063702\n",
      "Test set: Average loss: 0.0827, Accuracy: 9740/10000 (97.40%)\n",
      "Train Epoch: 5 [0/60000]  Loss: 0.010480\n",
      "Train Epoch: 5 [6400/60000]  Loss: 0.013153\n",
      "Train Epoch: 5 [12800/60000]  Loss: 0.044183\n",
      "Train Epoch: 5 [19200/60000]  Loss: 0.098815\n",
      "Train Epoch: 5 [25600/60000]  Loss: 0.063682\n",
      "Train Epoch: 5 [32000/60000]  Loss: 0.017087\n",
      "Train Epoch: 5 [38400/60000]  Loss: 0.038730\n",
      "Train Epoch: 5 [44800/60000]  Loss: 0.013513\n",
      "Train Epoch: 5 [51200/60000]  Loss: 0.021791\n",
      "Train Epoch: 5 [57600/60000]  Loss: 0.048834\n",
      "Test set: Average loss: 0.0861, Accuracy: 9742/10000 (97.42%)\n"
     ]
    }
   ],
   "source": [
    "# Train for 5 epochs\n",
    "for epoch in range(1, 6):\n",
    "    train(model, device, train_loader, optimizer, criterion, epoch)\n",
    "    test(model, device, test_loader, criterion)"
   ]
  }
 ],
 "metadata": {
  "kernelspec": {
   "display_name": "Python 3",
   "language": "python",
   "name": "python3"
  },
  "language_info": {
   "codemirror_mode": {
    "name": "ipython",
    "version": 3
   },
   "file_extension": ".py",
   "mimetype": "text/x-python",
   "name": "python",
   "nbconvert_exporter": "python",
   "pygments_lexer": "ipython3",
   "version": "3.10.11"
  }
 },
 "nbformat": 4,
 "nbformat_minor": 5
}
