{
 "cells": [
  {
   "cell_type": "markdown",
   "metadata": {},
   "source": [
    "**LAB_3**"
   ]
  },
  {
   "cell_type": "code",
   "execution_count": null,
   "metadata": {
    "id": "pg_RDHDW3hwo"
   },
   "outputs": [
    {
     "name": "stdout",
     "output_type": "stream",
     "text": [
      "\n",
      "--- KNN Classifier ---\n",
      "Accuracy: 0.9590643274853801\n",
      "Classification Report:\n",
      "               precision    recall  f1-score   support\n",
      "\n",
      "           0       0.95      0.94      0.94        63\n",
      "           1       0.96      0.97      0.97       108\n",
      "\n",
      "    accuracy                           0.96       171\n",
      "   macro avg       0.96      0.95      0.96       171\n",
      "weighted avg       0.96      0.96      0.96       171\n",
      "\n",
      "\n",
      "--- SVM Classifier ---\n",
      "Accuracy: 0.9766081871345029\n",
      "Classification Report:\n",
      "               precision    recall  f1-score   support\n",
      "\n",
      "           0       0.97      0.97      0.97        63\n",
      "           1       0.98      0.98      0.98       108\n",
      "\n",
      "    accuracy                           0.98       171\n",
      "   macro avg       0.97      0.97      0.97       171\n",
      "weighted avg       0.98      0.98      0.98       171\n",
      "\n",
      "\n",
      "--- Decision Tree Classifier ---\n",
      "Accuracy: 0.9415204678362573\n",
      "Classification Report:\n",
      "               precision    recall  f1-score   support\n",
      "\n",
      "           0       0.90      0.95      0.92        63\n",
      "           1       0.97      0.94      0.95       108\n",
      "\n",
      "    accuracy                           0.94       171\n",
      "   macro avg       0.93      0.94      0.94       171\n",
      "weighted avg       0.94      0.94      0.94       171\n",
      "\n"
     ]
    }
   ],
   "source": [
    "from sklearn.datasets import load_breast_cancer\n",
    "from sklearn.model_selection import train_test_split\n",
    "from sklearn.preprocessing import StandardScaler\n",
    "from sklearn.neighbors import KNeighborsClassifier\n",
    "from sklearn.svm import SVC\n",
    "from sklearn.tree import DecisionTreeClassifier\n",
    "from sklearn.metrics import classification_report, accuracy_score\n",
    "# -----------------------------\n",
    "# Load dataset\n",
    "# -----------------------------\n",
    "data = load_breast_cancer()\n",
    "X, y = data.data, data.target\n",
    "\n",
    "# -----------------------------\n",
    "# Split into train and test\n",
    "# -----------------------------\n",
    "X_train, X_test, y_train, y_test = train_test_split(X, y, test_size=0.3, random_state=42)\n",
    "\n",
    "# -----------------------------\n",
    "# Scale features (important for KNN and SVM)\n",
    "# -----------------------------\n",
    "scaler = StandardScaler()\n",
    "X_train_scaled = scaler.fit_transform(X_train)\n",
    "X_test_scaled = scaler.transform(X_test)\n",
    "\n",
    "# -----------------------------\n",
    "#  KNN Classifier\n",
    "# -----------------------------\n",
    "knn = KNeighborsClassifier(n_neighbors=5)\n",
    "knn.fit(X_train_scaled, y_train)\n",
    "knn_preds = knn.predict(X_test_scaled)\n",
    "\n",
    "# -----------------------------\n",
    "#  SVM Classifier\n",
    "# -----------------------------\n",
    "svm = SVC(kernel='rbf')  # or 'linear'\n",
    "svm.fit(X_train_scaled, y_train)\n",
    "svm_preds = svm.predict(X_test_scaled)\n",
    "\n",
    "# -----------------------------\n",
    "#  Decision Tree Classifier\n",
    "# -----------------------------\n",
    "\n",
    "dt = DecisionTreeClassifier(random_state=42)\n",
    "dt.fit(X_train, y_train)  # no scaling needed for trees\n",
    "dt_preds = dt.predict(X_test)\n",
    "\n",
    "# -----------------------------\n",
    "# Results\n",
    "# -----------------------------\n",
    "\n",
    "print(\"\\n--- KNN Classifier ---\")\n",
    "print(\"Accuracy:\", accuracy_score(y_test, knn_preds))\n",
    "print(\"Classification Report:\\n\", classification_report(y_test, knn_preds))\n",
    "\n",
    "print(\"\\n--- SVM Classifier ---\")\n",
    "print(\"Accuracy:\", accuracy_score(y_test, svm_preds))\n",
    "print(\"Classification Report:\\n\", classification_report(y_test, svm_preds))\n",
    "\n",
    "print(\"\\n--- Decision Tree Classifier ---\")\n",
    "print(\"Accuracy:\", accuracy_score(y_test, dt_preds))\n",
    "print(\"Classification Report:\\n\", classification_report(y_test, dt_preds))\n"
   ]
  }
 ],
 "metadata": {
  "colab": {
   "authorship_tag": "ABX9TyPwUh6SyJDVpE8jJVD4SIlg",
   "provenance": []
  },
  "kernelspec": {
   "display_name": "Python 3",
   "name": "python3"
  },
  "language_info": {
   "codemirror_mode": {
    "name": "ipython",
    "version": 3
   },
   "file_extension": ".py",
   "mimetype": "text/x-python",
   "name": "python",
   "nbconvert_exporter": "python",
   "pygments_lexer": "ipython3",
   "version": "3.10.11"
  }
 },
 "nbformat": 4,
 "nbformat_minor": 0
}
